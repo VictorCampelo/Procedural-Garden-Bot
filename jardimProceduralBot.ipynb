{
  "nbformat": 4,
  "nbformat_minor": 0,
  "metadata": {
    "colab": {
      "name": "jardimProceduralBot.ipynb",
      "private_outputs": true,
      "provenance": [],
      "collapsed_sections": [],
      "mount_file_id": "1fCoIv41Y2Tz7_WEJaqNSQI0pvycykX7D",
      "authorship_tag": "ABX9TyOpUtYmeG5y8lwbYPUqGVzY"
    },
    "kernelspec": {
      "name": "python3",
      "display_name": "Python 3"
    },
    "language_info": {
      "name": "python"
    }
  },
  "cells": [
    {
      "cell_type": "code",
      "metadata": {
        "id": "ECLiYMeAnsFw"
      },
      "source": [
        "!pip install Selenium\n",
        "!apt-get update # to update ubuntu to correctly run apt install\n",
        "!apt install chromium-chromedriver\n",
        "!cp /usr/lib/chromium-browser/chromedriver /usr/bin"
      ],
      "execution_count": null,
      "outputs": []
    },
    {
      "cell_type": "code",
      "metadata": {
        "id": "cyjvTU5Nny3f"
      },
      "source": [
        "import sys\n",
        "sys.path.insert(0,'/usr/lib/chromium-browser/chromedriver')\n",
        "from selenium import webdriver\n",
        "chrome_options = webdriver.ChromeOptions()\n",
        "chrome_options.add_argument('--headless')\n",
        "chrome_options.add_argument('--no-sandbox')\n",
        "chrome_options.add_argument('--disable-dev-shm-usage')\n",
        "prefs = {\"download.default_directory\" : \"/content/drive/MyDrive/Colab/Jardim Procedural Bot\"};\n",
        "chrome_options.add_experimental_option(\"prefs\",prefs);\n",
        "wd = webdriver.Chrome('chromedriver',chrome_options=chrome_options)\n",
        "wd.get(\"https://www.webite-url.com\")"
      ],
      "execution_count": null,
      "outputs": []
    },
    {
      "cell_type": "code",
      "metadata": {
        "id": "HprHpT4ds4G2"
      },
      "source": [
        "from selenium.webdriver.support.wait import WebDriverWait\n",
        "from selenium.webdriver.common.by import By\n",
        "from selenium.webdriver.support import expected_conditions as EC"
      ],
      "execution_count": null,
      "outputs": []
    },
    {
      "cell_type": "code",
      "metadata": {
        "id": "3gFI7gI2n5Jt"
      },
      "source": [
        "try:\n",
        "  wd.get('https://jardimprocedural.netlify.app');\n",
        "\n",
        "  select =wd.find_element_by_id('label_control_01');\n",
        "  select.click()\n",
        "  \n",
        "  time.sleep(3);\n",
        "  \n",
        "  generate=wd.find_element_by_class_name('btn1');\n",
        "  generate.click()\n",
        "\n",
        "  time.sleep(30);\n",
        "\n",
        "  download=wd.find_element_by_id('download');\n",
        "  download.click()\n",
        "  \n",
        "  time.sleep(5);\n",
        "except Exception as e:\n",
        "  print(e)"
      ],
      "execution_count": null,
      "outputs": []
    },
    {
      "cell_type": "code",
      "metadata": {
        "id": "usnA6HuIw8EO"
      },
      "source": [
        ""
      ],
      "execution_count": null,
      "outputs": []
    }
  ]
}