{
  "nbformat": 4,
  "nbformat_minor": 0,
  "metadata": {
    "colab": {
      "private_outputs": true,
      "provenance": [],
      "mount_file_id": "1fCoIv41Y2Tz7_WEJaqNSQI0pvycykX7D",
      "authorship_tag": "ABX9TyMaVkvJtItOpkkRu9B2320i"
    },
    "kernelspec": {
      "name": "python3",
      "display_name": "Python 3"
    },
    "language_info": {
      "name": "python"
    }
  },
  "cells": [
    {
      "cell_type": "code",
      "source": [
        "# Install Selenium\n",
        "!pip install selenium\n",
        "!pip install webdriver_manager"
      ],
      "metadata": {
        "id": "81OIgX3_Elas"
      },
      "execution_count": null,
      "outputs": []
    },
    {
      "cell_type": "code",
      "source": [
        "import sys\n",
        "from selenium import webdriver\n",
        "from selenium.webdriver.common.by import By\n",
        "from selenium.webdriver.support.ui import WebDriverWait\n",
        "from selenium.webdriver.support import expected_conditions as EC\n",
        "from IPython.display import Image\n",
        "import time\n",
        "import os"
      ],
      "metadata": {
        "id": "zHmFW7SfGCNZ"
      },
      "execution_count": null,
      "outputs": []
    },
    {
      "cell_type": "code",
      "source": [
        "# Configure ChromeOptions\n",
        "chrome_options = webdriver.ChromeOptions()\n",
        "chrome_options.add_argument('--headless')\n",
        "chrome_options.add_argument('--no-sandbox')\n",
        "chrome_options.add_argument('--disable-dev-shm-usage')\n",
        "\n",
        "# Set download directory\n",
        "# download_dir = \"/content/drive/MyDrive/Colab/Jardim Procedural Bot\"\n",
        "download_dir = \"/content\"\n",
        "prefs = {\"download.default_directory\": download_dir}\n",
        "chrome_options.add_experimental_option(\"prefs\", prefs)\n",
        "\n",
        "# Create WebDriver instance\n",
        "driver = webdriver.Chrome(options=chrome_options)\n",
        "\n",
        "# Navigate to the website\n",
        "driver.get('https://jardimprocedural.netlify.app')\n",
        "\n",
        "# Find and click the select element\n",
        "select_element = WebDriverWait(driver, 10).until(\n",
        "    EC.element_to_be_clickable((By.ID, 'label_control_01'))\n",
        ")\n",
        "select_element.click()\n",
        "\n",
        "# Wait for the generate button to appear and click it\n",
        "generate_button = WebDriverWait(driver, 10).until(\n",
        "    EC.element_to_be_clickable((By.CLASS_NAME, 'btn1'))\n",
        ")\n",
        "generate_button.click()\n",
        "\n",
        "time.sleep(30)\n",
        "\n",
        "# Wait for the download button to appear and click it\n",
        "download_button = WebDriverWait(driver, 30).until(\n",
        "    EC.element_to_be_clickable((By.ID, 'download'))\n",
        ")\n",
        "download_button.click()\n",
        "\n",
        "# Sleep for 5 seconds to ensure all downloads are complete\n",
        "time.sleep(5)\n",
        "\n",
        "# Close the browser\n",
        "driver.quit()\n",
        "\n",
        "\n",
        "# Get the list of files in the download directory\n",
        "downloaded_files = os.listdir(download_dir)\n",
        "\n",
        "# Filter the list to find the image file\n",
        "image_files = [file for file in downloaded_files if file.endswith('.png')]\n",
        "\n",
        "# Check if there are image files\n",
        "if image_files:\n",
        "    # Sort the image files by name\n",
        "    sorted_image_files = sorted(image_files)\n",
        "\n",
        "    # Get the file name of the downloaded image\n",
        "    downloaded_image_filename = os.path.join(download_dir, sorted_image_files[0])\n",
        "    # Display the downloaded image\n",
        "    Image(filename=downloaded_image_filename)\n",
        "else:\n",
        "    print(\"Error: There are no image files downloaded.\")\n"
      ],
      "metadata": {
        "id": "_RtMubbJD1pb"
      },
      "execution_count": null,
      "outputs": []
    }
  ]
}